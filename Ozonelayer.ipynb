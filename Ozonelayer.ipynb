{
 "cells": [
  {
   "cell_type": "markdown",
   "id": "5e92f95b",
   "metadata": {},
   "source": [
    "NAIROBI OZONESONDE DATA AVAILABILITY"
   ]
  }
 ],
 "metadata": {
  "kernelspec": {
   "display_name": ".venv (3.12.5)",
   "language": "python",
   "name": "python3"
  },
  "language_info": {
   "codemirror_mode": {
    "name": "ipython",
    "version": 3
   },
   "file_extension": ".py",
   "mimetype": "text/x-python",
   "name": "python",
   "nbconvert_exporter": "python",
   "pygments_lexer": "ipython3",
   "version": "3.12.5"
  }
 },
 "nbformat": 4,
 "nbformat_minor": 5
}
